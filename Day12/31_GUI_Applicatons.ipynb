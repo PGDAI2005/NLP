{
 "cells": [
  {
   "cell_type": "markdown",
   "metadata": {},
   "source": [
    "#### Installation"
   ]
  },
  {
   "cell_type": "code",
   "execution_count": 1,
   "metadata": {},
   "outputs": [
    {
     "name": "stdout",
     "output_type": "stream",
     "text": [
      "Requirement already satisfied: flask in c:\\users\\administrator.dai-pc2\\anaconda3\\envs\\dnn_env\\lib\\site-packages (3.0.3)\n",
      "Requirement already satisfied: Werkzeug>=3.0.0 in c:\\users\\administrator.dai-pc2\\anaconda3\\envs\\dnn_env\\lib\\site-packages (from flask) (3.0.3)\n",
      "Requirement already satisfied: Jinja2>=3.1.2 in c:\\users\\administrator.dai-pc2\\anaconda3\\envs\\dnn_env\\lib\\site-packages (from flask) (3.1.4)\n",
      "Requirement already satisfied: itsdangerous>=2.1.2 in c:\\users\\administrator.dai-pc2\\anaconda3\\envs\\dnn_env\\lib\\site-packages (from flask) (2.2.0)\n",
      "Requirement already satisfied: click>=8.1.3 in c:\\users\\administrator.dai-pc2\\anaconda3\\envs\\dnn_env\\lib\\site-packages (from flask) (8.1.7)\n",
      "Requirement already satisfied: blinker>=1.6.2 in c:\\users\\administrator.dai-pc2\\anaconda3\\envs\\dnn_env\\lib\\site-packages (from flask) (1.8.2)\n",
      "Requirement already satisfied: colorama in c:\\users\\administrator.dai-pc2\\anaconda3\\envs\\dnn_env\\lib\\site-packages (from click>=8.1.3->flask) (0.4.6)\n",
      "Requirement already satisfied: MarkupSafe>=2.0 in c:\\users\\administrator.dai-pc2\\anaconda3\\envs\\dnn_env\\lib\\site-packages (from Jinja2>=3.1.2->flask) (2.1.5)\n"
     ]
    }
   ],
   "source": [
    "! pip install flask"
   ]
  },
  {
   "cell_type": "markdown",
   "metadata": {},
   "source": [
    "##### Tkinter Application"
   ]
  },
  {
   "cell_type": "code",
   "execution_count": 2,
   "metadata": {},
   "outputs": [],
   "source": [
    "from tkinter import *"
   ]
  },
  {
   "cell_type": "code",
   "execution_count": 3,
   "metadata": {},
   "outputs": [],
   "source": [
    "top = Tk()\n",
    "top.title('My First Application')\n",
    "top.geometry('500x300')\n",
    "top.mainloop()"
   ]
  },
  {
   "cell_type": "markdown",
   "metadata": {},
   "source": [
    "#### Add Widgets"
   ]
  },
  {
   "cell_type": "code",
   "execution_count": 14,
   "metadata": {},
   "outputs": [],
   "source": [
    "top = Tk()\n",
    "top.title('My First Application')\n",
    "top.geometry('500x300')\n",
    "\n",
    "def show():\n",
    "    name = str(e.get())\n",
    "    Label(top, text=\"Your Name is :\"+str(e.get().upper())).pack()\n",
    "\n",
    "Label(text='Hello World!!').pack()\n",
    "\n",
    "e = Entry(top)\n",
    "e.pack()\n",
    "\n",
    "Button(top, text=\"Submit\",command=show).pack()\n",
    "\n",
    "# Text(top,height=5,width=52).pack()\n",
    "\n",
    "b2 = Button(top, text = \"Exit\",\n",
    "            command = top.destroy)\n",
    "b2.pack()\n",
    "\n",
    "top.mainloop()"
   ]
  },
  {
   "cell_type": "markdown",
   "metadata": {},
   "source": [
    "#### Interactive Application"
   ]
  },
  {
   "cell_type": "code",
   "execution_count": 21,
   "metadata": {},
   "outputs": [],
   "source": [
    "top = Tk()\n",
    "top.title('My First Application')\n",
    "top.geometry('500x300')\n",
    "\n",
    "def show():\n",
    "    num = int(e.get())\n",
    "    num **= 2\n",
    "    Label(top, text=\"The Square of the Given number is : \"+str(num)).place(x=50 , y=140)\n",
    "\n",
    "Label(text='Enter Your Number : ').place(x=50 , y=50)\n",
    "\n",
    "e = Entry(top)\n",
    "e.place(x=50 , y=70)\n",
    "\n",
    "Button(top, text=\"Submit\",command=show).place(x=50 , y=110)\n",
    "\n",
    "# Text(top,height=5,width=52).pack()\n",
    "\n",
    "b2 = Button(top, text = \"Exit\",\n",
    "            command = top.destroy)\n",
    "b2.place(x=50 , y=250)\n",
    "\n",
    "top.mainloop()"
   ]
  },
  {
   "cell_type": "markdown",
   "metadata": {},
   "source": [
    "#### Interactive Application"
   ]
  },
  {
   "cell_type": "code",
   "execution_count": 73,
   "metadata": {},
   "outputs": [],
   "source": [
    "top = Tk()\n",
    "top.title('Calculator')\n",
    "top.geometry('500x500')\n",
    "\n",
    "num1 = IntVar() # initialize the first variable\n",
    "num2 = IntVar() # initialize the second variable\n",
    "\n",
    " # Use functions to give action to the button. \n",
    "def Add():\n",
    "    sum = num1.get() + num2.get()\n",
    "    resultEntry.delete(0, END)\n",
    "    resultEntry.insert(0, str(sum))\n",
    "\n",
    "def Diff():\n",
    "    diff = num1.get() - num2.get()\n",
    "    resultEntry.delete(0, END)\n",
    "    resultEntry.insert(0, str(diff))\n",
    "\n",
    "def Mul():\n",
    "    mul = num1.get() * num2.get()\n",
    "    resultEntry.delete(0, END)\n",
    "    resultEntry.insert(0, str(mul))\n",
    "\n",
    "def Div():\n",
    "    div = num1.get() / num2.get()\n",
    "    resultEntry.delete(0, END)\n",
    "    resultEntry.insert(0, str(div))\n",
    "\n",
    "# Text\n",
    "type1 = Label(top, text=\"Type Value 1:\", font=(\"Arial\", 15))\n",
    "type1.place(x=61, y=125)\n",
    "\n",
    "type2 = Label(top, text=\"Type Value 2:\", font=(\"Arial\", 15))\n",
    "type2.place(x=61, y=197)\n",
    "\n",
    "resultLabel = Label(top, text=\"Result:\", font=(\"Arial\", 15))\n",
    "resultLabel.place(x=118, y=336)\n",
    "\n",
    "# Entries Syntax\n",
    "entry1 = Entry(top, textvariable=num1)\n",
    "entry1.place(x=200, y=130, height=25, width=143)\n",
    "\n",
    "entry2 = Entry(top, textvariable=num2)\n",
    "entry2.place(x=200, y=202, height=25, width=143)\n",
    "\n",
    "resultEntry = Entry(top)\n",
    "resultEntry.place(x=200, y=340, height=25, width=143)\n",
    "\n",
    "# Buttons syntax\n",
    "buttonAdd = Button(top, text=\"+\", fg=\"white\", bg=\"green\", font=(\"Arial\", 14), command=Add) # Use command to call the functions.\n",
    "buttonAdd.place(x=74, y=262, height=32, width=56)\n",
    "\n",
    "buttonSub = Button(top, text=\"-\", fg=\"white\", bg=\"green\", font=(\"Arial\", 14), command=Diff)\n",
    "buttonSub.place(x=142, y=262, height=32, width=56)\n",
    "\n",
    "buttonMul = Button(top, text=\"x\", fg=\"white\", bg=\"green\", font=(\"Arial\", 14), command=Mul)\n",
    "buttonMul.place(x=210, y=262, height=32, width=56)\n",
    "\n",
    "buttonDiv = Button(top, text=\"/\", fg=\"white\", bg=\"green\", font=(\"Arial\", 14), command=Div) \n",
    "buttonDiv.place(x=278, y=262, height=32, width=56)\n",
    "\n",
    "b2 = Button(top, text = \"Exit\",fg=\"Black\", bg=\"white\", font=(\"Arial\", 14),\n",
    "            command = top.destroy)\n",
    "b2.place(x=378, y=362, height=32, width=56)\n",
    "\n",
    "top.mainloop()"
   ]
  },
  {
   "cell_type": "markdown",
   "metadata": {},
   "source": [
    "#### GUI for Spam Classifier"
   ]
  },
  {
   "cell_type": "code",
   "execution_count": 16,
   "metadata": {},
   "outputs": [],
   "source": [
    "import joblib\n",
    "from nltk.tokenize import word_tokenize\n",
    "from nltk.corpus import stopwords\n",
    "from nltk.stem import PorterStemmer\n",
    "\n",
    "top = Tk() \n",
    "top.title('Spam Classifier') \n",
    "top.geometry('800x600')\n",
    "\n",
    "swords = stopwords.words('english')\n",
    "ps = PorterStemmer()\n",
    "\n",
    "# It is rquired as tfidf needs clean text function bcz tfidf = TfidfVectorizer(analyzer=clean_text) and tfidf is used for preprocessor.model\n",
    "def clean_text(sent):\n",
    "    tokens = [ps.stem(word) for word in word_tokenize(sent) if word.lower() not in swords and word.isalnum()]\n",
    "    return tokens\n",
    "\n",
    "def check():\n",
    "    classifier = joblib.load('..\\Day7\\classifer.model')\n",
    "    tfidf = joblib.load('..\\Day7\\preprocessor.model')\n",
    "    message = str(t.get(\"1.0\", END))\n",
    "    result = classifier.predict(tfidf.transform([message]))\n",
    "    \n",
    "    l.config(text = f\"Message is: \" + str(result[0]))\n",
    "    l.place(x=350, y=550)\n",
    "    \n",
    "l1 = Label(top, text = 'Enter your message here:').place(x= 50, y= 30)\n",
    "t = Text(top)\n",
    "t.place(x= 50, y= 70)\n",
    "Button(top, text = \"Submit\", command=check).place(x= 350, y= 500)\n",
    "l = Label(top, text = 'Message is: ')\n",
    "\n",
    "top.mainloop()"
   ]
  }
 ],
 "metadata": {
  "kernelspec": {
   "display_name": "DNN_ENV",
   "language": "python",
   "name": "python3"
  },
  "language_info": {
   "codemirror_mode": {
    "name": "ipython",
    "version": 3
   },
   "file_extension": ".py",
   "mimetype": "text/x-python",
   "name": "python",
   "nbconvert_exporter": "python",
   "pygments_lexer": "ipython3",
   "version": "3.11.9"
  }
 },
 "nbformat": 4,
 "nbformat_minor": 2
}
