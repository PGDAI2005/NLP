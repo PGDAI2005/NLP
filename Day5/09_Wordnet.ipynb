{
 "cells": [
  {
   "cell_type": "code",
   "execution_count": 1,
   "metadata": {},
   "outputs": [],
   "source": [
    "from nltk.corpus import wordnet"
   ]
  },
  {
   "cell_type": "code",
   "execution_count": 2,
   "metadata": {},
   "outputs": [
    {
     "data": {
      "text/plain": [
       "<WordNetCorpusReader in 'C:\\\\Users\\\\Administrator.DAI-PC2\\\\AppData\\\\Roaming\\\\nltk_data\\\\corpora\\\\wordnet.zip/wordnet/'>"
      ]
     },
     "execution_count": 2,
     "metadata": {},
     "output_type": "execute_result"
    }
   ],
   "source": [
    "wordnet"
   ]
  },
  {
   "cell_type": "code",
   "execution_count": 3,
   "metadata": {},
   "outputs": [],
   "source": [
    "x = wordnet.synsets('create')"
   ]
  },
  {
   "cell_type": "code",
   "execution_count": 4,
   "metadata": {},
   "outputs": [
    {
     "data": {
      "text/plain": [
       "[Synset('make.v.03'),\n",
       " Synset('create.v.02'),\n",
       " Synset('create.v.03'),\n",
       " Synset('create.v.04'),\n",
       " Synset('create.v.05'),\n",
       " Synset('produce.v.02')]"
      ]
     },
     "execution_count": 4,
     "metadata": {},
     "output_type": "execute_result"
    }
   ],
   "source": [
    "x"
   ]
  },
  {
   "cell_type": "code",
   "execution_count": 5,
   "metadata": {},
   "outputs": [],
   "source": [
    "synonyms = set()\n",
    "\n",
    "for word in wordnet.synsets('create'):\n",
    "    synonyms.add(word.lemmas()[0].name())"
   ]
  },
  {
   "cell_type": "code",
   "execution_count": 6,
   "metadata": {},
   "outputs": [
    {
     "data": {
      "text/plain": [
       "{'create', 'make', 'produce'}"
      ]
     },
     "execution_count": 6,
     "metadata": {},
     "output_type": "execute_result"
    }
   ],
   "source": [
    "synonyms"
   ]
  },
  {
   "cell_type": "markdown",
   "metadata": {},
   "source": [
    "### Defination and Examples"
   ]
  },
  {
   "cell_type": "code",
   "execution_count": 7,
   "metadata": {},
   "outputs": [
    {
     "name": "stdout",
     "output_type": "stream",
     "text": [
      "Word and Type : post.n.01\n",
      "synonyms : post\n",
      "Meaning of the word : the position where someone (as a guard or sentry) stands or is assigned to stand\n",
      "Example : ['a soldier manned the entrance post', 'a sentry station']\n"
     ]
    }
   ],
   "source": [
    "synset = wordnet.synsets(\"post\")\n",
    "print(\"Word and Type : \"+synset[0].name())\n",
    "print(\"synonyms : \"+synset[0].lemmas()[0].name())\n",
    "print(\"Meaning of the word : \" + synset[0].definition())\n",
    "print(\"Example : \" + str(synset[0].examples()))"
   ]
  },
  {
   "cell_type": "code",
   "execution_count": 8,
   "metadata": {},
   "outputs": [
    {
     "name": "stdout",
     "output_type": "stream",
     "text": [
      "Word and Type : position.n.06\n",
      "synonyms : position\n",
      "Meaning of the word : a job in an organization\n",
      "Example : ['he occupied a post in the treasury']\n"
     ]
    }
   ],
   "source": [
    "synset = wordnet.synsets(\"post\")\n",
    "print(\"Word and Type : \"+synset[2].name())\n",
    "print(\"synonyms : \"+synset[2].lemmas()[0].name())\n",
    "print(\"Meaning of the word : \" + synset[2].definition())\n",
    "print(\"Example : \" + str(synset[2].examples()))"
   ]
  },
  {
   "cell_type": "code",
   "execution_count": 9,
   "metadata": {},
   "outputs": [
    {
     "name": "stdout",
     "output_type": "stream",
     "text": [
      "Word and Type : post.n.09\n",
      "synonyms : post\n",
      "Meaning of the word : a pole or stake set up to mark something (as the start or end of a race track)\n",
      "Example : ['a pair of posts marked the goal', 'the corner of the lot was indicated by a stake']\n"
     ]
    }
   ],
   "source": [
    "synset = wordnet.synsets(\"post\")\n",
    "print(\"Word and Type : \"+synset[8].name())\n",
    "print(\"synonyms : \"+synset[8].lemmas()[0].name())\n",
    "print(\"Meaning of the word : \" + synset[8].definition())\n",
    "print(\"Example : \" + str(synset[8].examples()))"
   ]
  },
  {
   "cell_type": "code",
   "execution_count": 10,
   "metadata": {},
   "outputs": [
    {
     "name": "stdout",
     "output_type": "stream",
     "text": [
      "sound.n.01\n",
      "sound.n.02\n",
      "sound.n.03\n",
      "sound.n.04\n",
      "audio.n.01\n",
      "phone.n.02\n",
      "strait.n.01\n",
      "sound.n.08\n",
      "sound.v.01\n",
      "sound.v.02\n",
      "sound.v.03\n",
      "sound.v.04\n",
      "voice.v.02\n",
      "sound.v.06\n",
      "fathom.v.02\n",
      "sound.a.01\n",
      "healthy.s.04\n",
      "sound.a.03\n",
      "good.s.17\n",
      "reasoned.s.01\n",
      "legal.s.03\n",
      "sound.s.07\n",
      "heavy.s.26\n",
      "sound.s.09\n"
     ]
    }
   ],
   "source": [
    "for word in wordnet.synsets('sound'):\n",
    "    print(word.name())"
   ]
  },
  {
   "cell_type": "code",
   "execution_count": 11,
   "metadata": {},
   "outputs": [
    {
     "name": "stdout",
     "output_type": "stream",
     "text": [
      "sound.v.01\n",
      "sound.v.02\n",
      "sound.v.03\n",
      "sound.v.04\n",
      "voice.v.02\n",
      "sound.v.06\n",
      "fathom.v.02\n"
     ]
    }
   ],
   "source": [
    "for word in wordnet.synsets('sound',pos='v'):\n",
    "    print(word.name())"
   ]
  },
  {
   "cell_type": "code",
   "execution_count": 12,
   "metadata": {},
   "outputs": [
    {
     "name": "stdout",
     "output_type": "stream",
     "text": [
      "sound.n.01\n",
      "sound.n.02\n",
      "sound.n.03\n",
      "sound.n.04\n",
      "audio.n.01\n",
      "phone.n.02\n",
      "strait.n.01\n",
      "sound.n.08\n"
     ]
    }
   ],
   "source": [
    "for word in wordnet.synsets('sound',pos='n'):\n",
    "    print(word.name())"
   ]
  },
  {
   "cell_type": "code",
   "execution_count": 13,
   "metadata": {},
   "outputs": [],
   "source": [
    "# Read a word from the user and print all meanings of it\n",
    "# Read a word from the user and print all the noun meanings of it"
   ]
  },
  {
   "cell_type": "code",
   "execution_count": 14,
   "metadata": {},
   "outputs": [],
   "source": [
    "# Read a word from user\n",
    "word = input(\"Enter a word: \")"
   ]
  },
  {
   "cell_type": "code",
   "execution_count": 15,
   "metadata": {},
   "outputs": [
    {
     "name": "stdout",
     "output_type": "stream",
     "text": [
      "All meanings of the word:\n",
      "car.n.01 ---> a motor vehicle with four wheels; usually propelled by an internal combustion engine\n",
      "car.n.02 ---> a wheeled vehicle adapted to the rails of railroad\n",
      "car.n.03 ---> the compartment that is suspended from an airship and that carries personnel and the cargo and the power plant\n",
      "car.n.04 ---> where passengers ride up and down\n",
      "cable_car.n.01 ---> a conveyance for passengers or freight on a cable railway\n"
     ]
    }
   ],
   "source": [
    "# Fetch all meanings\n",
    "meanings = wordnet.synsets(word)\n",
    "print(\"All meanings of the word:\")\n",
    "for meaning in meanings:\n",
    "    print(f\"{meaning.name()} ---> {meaning.definition()}\")"
   ]
  },
  {
   "cell_type": "code",
   "execution_count": 16,
   "metadata": {},
   "outputs": [
    {
     "name": "stdout",
     "output_type": "stream",
     "text": [
      "\n",
      "Noun meanings of the word:\n",
      "car.n.01 ---> a motor vehicle with four wheels; usually propelled by an internal combustion engine\n",
      "car.n.02 ---> a wheeled vehicle adapted to the rails of railroad\n",
      "car.n.03 ---> the compartment that is suspended from an airship and that carries personnel and the cargo and the power plant\n",
      "car.n.04 ---> where passengers ride up and down\n",
      "cable_car.n.01 ---> a conveyance for passengers or freight on a cable railway\n"
     ]
    }
   ],
   "source": [
    "# Fetch all noun meanings\n",
    "noun_meanings = [synset for synset in meanings if synset.pos() == 'n']\n",
    "print(\"\\nNoun meanings of the word:\")\n",
    "for meaning in noun_meanings:\n",
    "    print(f\"{meaning.name()} ---> {meaning.definition()}\")"
   ]
  },
  {
   "cell_type": "markdown",
   "metadata": {},
   "source": [
    "### Extract Specific pos from word"
   ]
  },
  {
   "cell_type": "code",
   "execution_count": 17,
   "metadata": {},
   "outputs": [],
   "source": [
    "verbs = set()\n",
    "nouns = set()\n",
    "adj = set()\n",
    "\n",
    "for word in wordnet.synsets('sound',pos='n'):\n",
    "    nouns.add(word.lemmas()[0].name())\n",
    "for word in wordnet.synsets('sound',pos='v'):\n",
    "    verbs.add(word.lemmas()[0].name())\n",
    "for word in wordnet.synsets('sound',pos='a'):\n",
    "    adj.add(word.lemmas()[0].name())"
   ]
  },
  {
   "cell_type": "code",
   "execution_count": 18,
   "metadata": {},
   "outputs": [
    {
     "data": {
      "text/plain": [
       "{'fathom', 'sound', 'voice'}"
      ]
     },
     "execution_count": 18,
     "metadata": {},
     "output_type": "execute_result"
    }
   ],
   "source": [
    "verbs"
   ]
  },
  {
   "cell_type": "code",
   "execution_count": 19,
   "metadata": {},
   "outputs": [
    {
     "data": {
      "text/plain": [
       "{'audio', 'phone', 'sound', 'strait'}"
      ]
     },
     "execution_count": 19,
     "metadata": {},
     "output_type": "execute_result"
    }
   ],
   "source": [
    "nouns"
   ]
  },
  {
   "cell_type": "code",
   "execution_count": 20,
   "metadata": {},
   "outputs": [
    {
     "data": {
      "text/plain": [
       "{'good', 'healthy', 'heavy', 'legal', 'reasoned', 'sound'}"
      ]
     },
     "execution_count": 20,
     "metadata": {},
     "output_type": "execute_result"
    }
   ],
   "source": [
    "adj"
   ]
  },
  {
   "cell_type": "markdown",
   "metadata": {},
   "source": [
    "#### Find Antonyms od word"
   ]
  },
  {
   "cell_type": "code",
   "execution_count": 21,
   "metadata": {},
   "outputs": [
    {
     "name": "stdout",
     "output_type": "stream",
     "text": [
      "Antonyms :  {'malfunction', 'idle'}\n"
     ]
    }
   ],
   "source": [
    "ant = set()\n",
    "for synset in wordnet.synsets(\"run\"):\n",
    "    for lemma in synset.lemmas():\n",
    "        if lemma.antonyms():\n",
    "            ant.add(lemma.antonyms()[0].name())\n",
    "\n",
    "print(\"Antonyms : \", ant)"
   ]
  },
  {
   "cell_type": "markdown",
   "metadata": {},
   "source": [
    "##### Extract the Hypernyms"
   ]
  },
  {
   "cell_type": "code",
   "execution_count": 22,
   "metadata": {},
   "outputs": [
    {
     "name": "stdout",
     "output_type": "stream",
     "text": [
      "spoil is a hypernym of stolen_property.n.01\n",
      "spoil is a hypernym of injury.n.04\n",
      "spoil is a hypernym of plundering.n.01\n",
      "spoil is a hypernym of fail.v.02\n",
      "spoil is a hypernym of decay.v.03\n",
      "spoil is a hypernym of modify.v.01\n",
      "spoil is a hypernym of treat.v.01\n",
      "spoil is a hypernym of prevent.v.01\n",
      "spoil is a hypernym of desire.v.01\n",
      "spoil is a hypernym of destroy.v.02\n",
      "spoil is a hypernym of damage.v.01\n"
     ]
    }
   ],
   "source": [
    "word = \"spoil\"\n",
    "synsets = wordnet.synsets(word)\n",
    "\n",
    "for synset in synsets:\n",
    "    hypernyms = synset.hypernyms()\n",
    "    if hypernyms:\n",
    "        for hypernym in hypernyms:\n",
    "            print(f\"{word} is a hypernym of {hypernym.name()}\")"
   ]
  },
  {
   "cell_type": "markdown",
   "metadata": {},
   "source": [
    "##### Extract the meronyms"
   ]
  },
  {
   "cell_type": "code",
   "execution_count": 23,
   "metadata": {},
   "outputs": [
    {
     "name": "stdout",
     "output_type": "stream",
     "text": [
      "Car has meronyms : accelerator.n.01\n",
      "Car has meronyms : air_bag.n.01\n",
      "Car has meronyms : auto_accessory.n.01\n",
      "Car has meronyms : automobile_engine.n.01\n",
      "Car has meronyms : automobile_horn.n.01\n",
      "Car has meronyms : buffer.n.06\n",
      "Car has meronyms : bumper.n.02\n",
      "Car has meronyms : car_door.n.01\n",
      "Car has meronyms : car_mirror.n.01\n",
      "Car has meronyms : car_seat.n.01\n",
      "Car has meronyms : car_window.n.01\n",
      "Car has meronyms : fender.n.01\n",
      "Car has meronyms : first_gear.n.01\n",
      "Car has meronyms : floorboard.n.02\n",
      "Car has meronyms : gasoline_engine.n.01\n",
      "Car has meronyms : glove_compartment.n.01\n",
      "Car has meronyms : grille.n.02\n",
      "Car has meronyms : high_gear.n.01\n",
      "Car has meronyms : hood.n.09\n",
      "Car has meronyms : luggage_compartment.n.01\n",
      "Car has meronyms : rear_window.n.01\n",
      "Car has meronyms : reverse.n.02\n",
      "Car has meronyms : roof.n.02\n",
      "Car has meronyms : running_board.n.01\n",
      "Car has meronyms : stabilizer_bar.n.01\n",
      "Car has meronyms : sunroof.n.01\n",
      "Car has meronyms : tail_fin.n.02\n",
      "Car has meronyms : third_gear.n.01\n",
      "Car has meronyms : window.n.02\n",
      "Car has meronyms : suspension.n.05\n"
     ]
    }
   ],
   "source": [
    "word = 'Car'\n",
    "synsets = wordnet.synsets(word)\n",
    "\n",
    "for synset in synsets:\n",
    "    meronyms = synset.part_meronyms()\n",
    "    if meronyms:\n",
    "        for meronym in meronyms:\n",
    "            print(f\"{word} has meronyms : {meronym.name()}\")"
   ]
  }
 ],
 "metadata": {
  "kernelspec": {
   "display_name": "DNN_ENV",
   "language": "python",
   "name": "python3"
  },
  "language_info": {
   "codemirror_mode": {
    "name": "ipython",
    "version": 3
   },
   "file_extension": ".py",
   "mimetype": "text/x-python",
   "name": "python",
   "nbconvert_exporter": "python",
   "pygments_lexer": "ipython3",
   "version": "3.11.9"
  }
 },
 "nbformat": 4,
 "nbformat_minor": 2
}
