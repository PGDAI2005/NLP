{
  "cells": [
    {
      "cell_type": "code",
      "execution_count": 1,
      "metadata": {
        "colab": {
          "base_uri": "https://localhost:8080/"
        },
        "id": "-eqKdQH0inQV",
        "outputId": "850877bc-4c06-4861-a108-3769d4bf1335"
      },
      "outputs": [
        {
          "name": "stdout",
          "output_type": "stream",
          "text": [
            "Collecting morfessor\n",
            "  Downloading Morfessor-2.0.6-py3-none-any.whl.metadata (628 bytes)\n",
            "Collecting polyglot\n",
            "  Downloading polyglot-16.7.4.tar.gz (126 kB)\n",
            "     ---------------------------------------- 0.0/126.3 kB ? eta -:--:--\n",
            "     ------------------------------------ - 122.9/126.3 kB 2.4 MB/s eta 0:00:01\n",
            "     ------------------------------------ - 122.9/126.3 kB 2.4 MB/s eta 0:00:01\n",
            "     -------------------------------------- 126.3/126.3 kB 1.1 MB/s eta 0:00:00\n",
            "  Preparing metadata (setup.py): started\n",
            "  Preparing metadata (setup.py): finished with status 'done'\n",
            "Collecting pyICU\n",
            "  Downloading PyICU-2.13.1.tar.gz (262 kB)\n",
            "     ---------------------------------------- 0.0/262.4 kB ? eta -:--:--\n",
            "     -------------------------------------  256.0/262.4 kB 7.9 MB/s eta 0:00:01\n",
            "     -------------------------------------  256.0/262.4 kB 7.9 MB/s eta 0:00:01\n",
            "     -------------------------------------- 262.4/262.4 kB 2.3 MB/s eta 0:00:00\n",
            "  Installing build dependencies: started\n",
            "  Installing build dependencies: finished with status 'done'\n",
            "  Getting requirements to build wheel: started\n",
            "  Getting requirements to build wheel: finished with status 'error'\n"
          ]
        },
        {
          "name": "stderr",
          "output_type": "stream",
          "text": [
            "  error: subprocess-exited-with-error\n",
            "  \n",
            "  × Getting requirements to build wheel did not run successfully.\n",
            "  │ exit code: 1\n",
            "  ╰─> [66 lines of output]\n",
            "      (running 'icu-config --version')\n",
            "      (running 'pkg-config --modversion icu-i18n')\n",
            "      Traceback (most recent call last):\n",
            "        File \"<string>\", line 89, in <module>\n",
            "        File \"<frozen os>\", line 679, in __getitem__\n",
            "      KeyError: 'ICU_VERSION'\n",
            "      \n",
            "      During handling of the above exception, another exception occurred:\n",
            "      \n",
            "      Traceback (most recent call last):\n",
            "        File \"<string>\", line 92, in <module>\n",
            "        File \"<string>\", line 19, in check_output\n",
            "        File \"C:\\Users\\Administrator.DAI-PC2\\anaconda3\\envs\\DNN_ENV\\Lib\\subprocess.py\", line 466, in check_output\n",
            "          return run(*popenargs, stdout=PIPE, timeout=timeout, check=True,\n",
            "                 ^^^^^^^^^^^^^^^^^^^^^^^^^^^^^^^^^^^^^^^^^^^^^^^^^^^^^^^^^\n",
            "        File \"C:\\Users\\Administrator.DAI-PC2\\anaconda3\\envs\\DNN_ENV\\Lib\\subprocess.py\", line 548, in run\n",
            "          with Popen(*popenargs, **kwargs) as process:\n",
            "               ^^^^^^^^^^^^^^^^^^^^^^^^^^^\n",
            "        File \"C:\\Users\\Administrator.DAI-PC2\\anaconda3\\envs\\DNN_ENV\\Lib\\subprocess.py\", line 1026, in __init__\n",
            "          self._execute_child(args, executable, preexec_fn, close_fds,\n",
            "        File \"C:\\Users\\Administrator.DAI-PC2\\anaconda3\\envs\\DNN_ENV\\Lib\\subprocess.py\", line 1538, in _execute_child\n",
            "          hp, ht, pid, tid = _winapi.CreateProcess(executable, args,\n",
            "                             ^^^^^^^^^^^^^^^^^^^^^^^^^^^^^^^^^^^^^^^\n",
            "      FileNotFoundError: [WinError 2] The system cannot find the file specified\n",
            "      \n",
            "      During handling of the above exception, another exception occurred:\n",
            "      \n",
            "      Traceback (most recent call last):\n",
            "        File \"<string>\", line 96, in <module>\n",
            "        File \"<string>\", line 19, in check_output\n",
            "        File \"C:\\Users\\Administrator.DAI-PC2\\anaconda3\\envs\\DNN_ENV\\Lib\\subprocess.py\", line 466, in check_output\n",
            "          return run(*popenargs, stdout=PIPE, timeout=timeout, check=True,\n",
            "                 ^^^^^^^^^^^^^^^^^^^^^^^^^^^^^^^^^^^^^^^^^^^^^^^^^^^^^^^^^\n",
            "        File \"C:\\Users\\Administrator.DAI-PC2\\anaconda3\\envs\\DNN_ENV\\Lib\\subprocess.py\", line 548, in run\n",
            "          with Popen(*popenargs, **kwargs) as process:\n",
            "               ^^^^^^^^^^^^^^^^^^^^^^^^^^^\n",
            "        File \"C:\\Users\\Administrator.DAI-PC2\\anaconda3\\envs\\DNN_ENV\\Lib\\subprocess.py\", line 1026, in __init__\n",
            "          self._execute_child(args, executable, preexec_fn, close_fds,\n",
            "        File \"C:\\Users\\Administrator.DAI-PC2\\anaconda3\\envs\\DNN_ENV\\Lib\\subprocess.py\", line 1538, in _execute_child\n",
            "          hp, ht, pid, tid = _winapi.CreateProcess(executable, args,\n",
            "                             ^^^^^^^^^^^^^^^^^^^^^^^^^^^^^^^^^^^^^^^\n",
            "      FileNotFoundError: [WinError 2] The system cannot find the file specified\n",
            "      \n",
            "      During handling of the above exception, another exception occurred:\n",
            "      \n",
            "      Traceback (most recent call last):\n",
            "        File \"C:\\Users\\Administrator.DAI-PC2\\anaconda3\\envs\\DNN_ENV\\Lib\\site-packages\\pip\\_vendor\\pyproject_hooks\\_in_process\\_in_process.py\", line 353, in <module>\n",
            "          main()\n",
            "        File \"C:\\Users\\Administrator.DAI-PC2\\anaconda3\\envs\\DNN_ENV\\Lib\\site-packages\\pip\\_vendor\\pyproject_hooks\\_in_process\\_in_process.py\", line 335, in main\n",
            "          json_out['return_val'] = hook(**hook_input['kwargs'])\n",
            "                                   ^^^^^^^^^^^^^^^^^^^^^^^^^^^^\n",
            "        File \"C:\\Users\\Administrator.DAI-PC2\\anaconda3\\envs\\DNN_ENV\\Lib\\site-packages\\pip\\_vendor\\pyproject_hooks\\_in_process\\_in_process.py\", line 118, in get_requires_for_build_wheel\n",
            "          return hook(config_settings)\n",
            "                 ^^^^^^^^^^^^^^^^^^^^^\n",
            "        File \"C:\\Users\\Administrator.DAI-PC2\\AppData\\Local\\Temp\\pip-build-env-5odv7dj1\\overlay\\Lib\\site-packages\\setuptools\\build_meta.py\", line 325, in get_requires_for_build_wheel\n",
            "          return self._get_build_requires(config_settings, requirements=['wheel'])\n",
            "                 ^^^^^^^^^^^^^^^^^^^^^^^^^^^^^^^^^^^^^^^^^^^^^^^^^^^^^^^^^^^^^^^^^\n",
            "        File \"C:\\Users\\Administrator.DAI-PC2\\AppData\\Local\\Temp\\pip-build-env-5odv7dj1\\overlay\\Lib\\site-packages\\setuptools\\build_meta.py\", line 295, in _get_build_requires\n",
            "          self.run_setup()\n",
            "        File \"C:\\Users\\Administrator.DAI-PC2\\AppData\\Local\\Temp\\pip-build-env-5odv7dj1\\overlay\\Lib\\site-packages\\setuptools\\build_meta.py\", line 311, in run_setup\n",
            "          exec(code, locals())\n",
            "        File \"<string>\", line 99, in <module>\n",
            "      RuntimeError:\n",
            "      Please install pkg-config on your system or set the ICU_VERSION environment\n",
            "      variable to the version of ICU you have installed.\n",
            "      \n",
            "      [end of output]\n",
            "  \n",
            "  note: This error originates from a subprocess, and is likely not a problem with pip.\n",
            "error: subprocess-exited-with-error\n",
            "\n",
            "× Getting requirements to build wheel did not run successfully.\n",
            "│ exit code: 1\n",
            "╰─> See above for output.\n",
            "\n",
            "note: This error originates from a subprocess, and is likely not a problem with pip.\n"
          ]
        }
      ],
      "source": [
        "!pip install morfessor polyglot pyICU pycld2 -U"
      ]
    },
    {
      "cell_type": "code",
      "execution_count": 2,
      "metadata": {
        "colab": {
          "base_uri": "https://localhost:8080/"
        },
        "id": "lNXpflpMiu1m",
        "outputId": "41a53a58-9865-46bc-a44e-cf09eab9fed4"
      },
      "outputs": [
        {
          "name": "stdout",
          "output_type": "stream",
          "text": [
            "Couldn't find program: 'bash'\n"
          ]
        }
      ],
      "source": [
        "%%bash\n",
        "polyglot download morph2.en morph2.mr"
      ]
    },
    {
      "cell_type": "code",
      "execution_count": 3,
      "metadata": {
        "colab": {
          "base_uri": "https://localhost:8080/"
        },
        "id": "PHbwEvnskJJ9",
        "outputId": "3df1f4cc-d487-4d20-9825-c6a4321ec6ea"
      },
      "outputs": [
        {
          "ename": "ModuleNotFoundError",
          "evalue": "No module named 'polyglot'",
          "output_type": "error",
          "traceback": [
            "\u001b[1;31m---------------------------------------------------------------------------\u001b[0m",
            "\u001b[1;31mModuleNotFoundError\u001b[0m                       Traceback (most recent call last)",
            "Cell \u001b[1;32mIn[3], line 1\u001b[0m\n\u001b[1;32m----> 1\u001b[0m \u001b[38;5;28;01mfrom\u001b[39;00m \u001b[38;5;21;01mpolyglot\u001b[39;00m\u001b[38;5;21;01m.\u001b[39;00m\u001b[38;5;21;01mdownloader\u001b[39;00m \u001b[38;5;28;01mimport\u001b[39;00m downloader\n\u001b[0;32m      2\u001b[0m \u001b[38;5;28mprint\u001b[39m(downloader\u001b[38;5;241m.\u001b[39msupported_languages_table(\u001b[38;5;124m'\u001b[39m\u001b[38;5;124mmorph2\u001b[39m\u001b[38;5;124m'\u001b[39m))\n",
            "\u001b[1;31mModuleNotFoundError\u001b[0m: No module named 'polyglot'"
          ]
        }
      ],
      "source": [
        "from polyglot.downloader import downloader\n",
        "print(downloader.supported_languages_table('morph2'))"
      ]
    },
    {
      "cell_type": "code",
      "execution_count": null,
      "metadata": {
        "id": "2Bw6ssuvlsrC"
      },
      "outputs": [],
      "source": [
        "from polyglot.text import Text, Word"
      ]
    },
    {
      "cell_type": "code",
      "execution_count": null,
      "metadata": {
        "id": "NGQPMenolVwX"
      },
      "outputs": [],
      "source": [
        "words = ['cats', 'computing', 'association', 'programming', 'leadership', 'miscommunication', 'identifiable', 'psychological', 'engineering', 'tabular', 'realistic', 'colorfulness', 'bestest', 'worst', 'asked', 'morphological', 'best']"
      ]
    },
    {
      "cell_type": "code",
      "execution_count": null,
      "metadata": {
        "colab": {
          "base_uri": "https://localhost:8080/"
        },
        "id": "GiuupnZbmVn0",
        "outputId": "69129858-e6b2-43a9-b41d-d54fa359c218"
      },
      "outputs": [
        {
          "name": "stdout",
          "output_type": "stream",
          "text": [
            "cats \t\t ['cat', 's']\n",
            "computing \t\t ['com', 'put', 'ing']\n",
            "association \t\t ['associ', 'ation']\n",
            "programming \t\t ['program', 'ming']\n",
            "leadership \t\t ['leader', 'ship']\n",
            "miscommunication \t\t ['mis', 'communication']\n",
            "identifiable \t\t ['identif', 'i', 'able']\n",
            "psychological \t\t ['psycho', 'logical']\n",
            "engineering \t\t ['engine', 'er', 'ing']\n",
            "tabular \t\t ['tab', 'ular']\n",
            "realistic \t\t ['real', 'istic']\n",
            "colorfulness \t\t ['color', 'ful', 'ness']\n",
            "bestest \t\t ['best', 'est']\n",
            "worst \t\t ['wor', 'st']\n",
            "asked \t\t ['ask', 'ed']\n",
            "morphological \t\t ['morph', 'o', 'logical']\n",
            "best \t\t ['best']\n"
          ]
        }
      ],
      "source": [
        "for w in words:\n",
        "  w = Word(w, language='en')\n",
        "  print(w, '\\t\\t', w.morphemes)"
      ]
    },
    {
      "cell_type": "code",
      "execution_count": null,
      "metadata": {
        "colab": {
          "base_uri": "https://localhost:8080/"
        },
        "id": "4cC7AgK9mxV-",
        "outputId": "9f7571da-6368-4b99-8285-6027bade2994"
      },
      "outputs": [
        {
          "name": "stdout",
          "output_type": "stream",
          "text": [
            "cats \t\t ['cat', 's']\n",
            "computing \t\t ['com', 'put', 'ing']\n",
            "association \t\t ['associ', 'ation']\n",
            "programming \t\t ['program', 'ming']\n",
            "leadership \t\t ['leader', 'ship']\n",
            "miscommunication \t\t ['mis', 'communication']\n",
            "identifiable \t\t ['identif', 'i', 'able']\n",
            "psychological \t\t ['psycho', 'logical']\n",
            "engineering \t\t ['engine', 'er', 'ing']\n",
            "tabular \t\t ['tab', 'ular']\n",
            "realistic \t\t ['real', 'istic']\n",
            "colorfulness \t\t ['color', 'ful', 'ness']\n",
            "bestest \t\t ['best', 'est']\n",
            "worst \t\t ['wor', 'st']\n",
            "asked \t\t ['ask', 'ed']\n",
            "morphological \t\t ['morph', 'o', 'logical']\n",
            "best \t\t ['best']\n"
          ]
        }
      ],
      "source": [
        "for w in words:\n",
        "  w = Text(w, hint_language_code='en')\n",
        "  print(w, '\\t\\t', w.morphemes)"
      ]
    },
    {
      "cell_type": "code",
      "execution_count": null,
      "metadata": {
        "colab": {
          "base_uri": "https://localhost:8080/"
        },
        "id": "SAS4-L43nWLS",
        "outputId": "bc9649c8-2a61-4f60-e99c-615e69a56b06"
      },
      "outputs": [
        {
          "name": "stdout",
          "output_type": "stream",
          "text": [
            "प्रामाणिकपणा \t\t ['प्रा', 'माणिक', 'पणा']\n",
            "प्रमाणिकरण \t\t ['प्रमाण', 'िकरण']\n",
            "जलविद्युत \t\t ['जल', 'विद्युत']\n",
            "राज्यशास्त्र \t\t ['राज्य', 'शास्त्र']\n",
            "जलप्राधिकरण \t\t ['जल', 'प्राधिकरण']\n",
            "मानसशास्त्रीय \t\t ['मानस', 'शास्त्र', 'ीय']\n",
            "रविवार \t\t ['रवि', 'वार']\n",
            "महाद्वीप \t\t ['महा', 'द्वीप']\n"
          ]
        }
      ],
      "source": [
        "words = ['प्रामाणिकपणा', 'प्रमाणिकरण', 'जलविद्युत' , 'राज्यशास्त्र' , 'जलप्राधिकरण' , 'मानसशास्त्रीय' , 'रविवार' , 'महाद्वीप' ]\n",
        "for w in words:\n",
        "  w = Word(w, language='mr')\n",
        "  print(w, '\\t\\t', w.morphemes)"
      ]
    },
    {
      "cell_type": "code",
      "execution_count": null,
      "metadata": {
        "colab": {
          "base_uri": "https://localhost:8080/"
        },
        "id": "EzkujK-NoR7g",
        "outputId": "648c0020-3191-4671-c68f-7ccb14b4a2c2"
      },
      "outputs": [
        {
          "name": "stdout",
          "output_type": "stream",
          "text": [
            "प्रामाणिकपणा \t\t ['प्रा', 'माणिक', 'पणा']\n",
            "प्रमाणिकरण \t\t ['प्रमाण', 'िकरण']\n",
            "जलविद्युत \t\t ['जल', 'विद्युत']\n",
            "राज्यशास्त्र \t\t ['राज्य', 'शास्त्र']\n",
            "जलप्राधिकरण \t\t ['जल', 'प्राधिकरण']\n",
            "मानसशास्त्रीय \t\t ['मानस', 'शास्त्र', 'ीय']\n",
            "रविवार \t\t ['रवि', 'वार']\n",
            "महाद्वीप \t\t ['महा', 'द्वीप']\n"
          ]
        }
      ],
      "source": [
        "for w in words:\n",
        "  w = Text(w, hint_language_code='mr')\n",
        "  print(w, '\\t\\t', w.morphemes)"
      ]
    },
    {
      "cell_type": "code",
      "execution_count": null,
      "metadata": {
        "id": "5-7jUZkWoX8u"
      },
      "outputs": [],
      "source": [
        "blob = 'Wewillmeettomorrow.'\n",
        "text = Text(blob)\n",
        "text.language = 'en'"
      ]
    },
    {
      "cell_type": "code",
      "execution_count": null,
      "metadata": {
        "colab": {
          "base_uri": "https://localhost:8080/"
        },
        "id": "wfzCo5FYpMBH",
        "outputId": "521dd477-c82a-4864-e6e6-a2ec93e9db96"
      },
      "outputs": [
        {
          "data": {
            "text/plain": [
              "Text(\"Wewillmeettoday.\")"
            ]
          },
          "execution_count": 27,
          "metadata": {},
          "output_type": "execute_result"
        }
      ],
      "source": [
        "text"
      ]
    },
    {
      "cell_type": "code",
      "execution_count": null,
      "metadata": {
        "colab": {
          "base_uri": "https://localhost:8080/"
        },
        "id": "9MzLJZJvpRih",
        "outputId": "4397e96e-9dd5-43ea-e7e4-248906f86250"
      },
      "outputs": [
        {
          "data": {
            "text/plain": [
              "WordList(['We', 'will', 'meet', 'tom', 'or', 'row', '.'])"
            ]
          },
          "execution_count": 30,
          "metadata": {},
          "output_type": "execute_result"
        }
      ],
      "source": [
        "text.morphemes"
      ]
    },
    {
      "cell_type": "code",
      "execution_count": null,
      "metadata": {
        "id": "jv91GJiTpVTO"
      },
      "outputs": [],
      "source": []
    }
  ],
  "metadata": {
    "colab": {
      "provenance": []
    },
    "kernelspec": {
      "display_name": "Python 3",
      "name": "python3"
    },
    "language_info": {
      "codemirror_mode": {
        "name": "ipython",
        "version": 3
      },
      "file_extension": ".py",
      "mimetype": "text/x-python",
      "name": "python",
      "nbconvert_exporter": "python",
      "pygments_lexer": "ipython3",
      "version": "3.11.9"
    }
  },
  "nbformat": 4,
  "nbformat_minor": 0
}
