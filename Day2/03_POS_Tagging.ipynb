{
 "cells": [
  {
   "cell_type": "code",
   "execution_count": 1,
   "metadata": {},
   "outputs": [],
   "source": [
    "from nltk import pos_tag\n",
    "from nltk.tokenize import word_tokenize"
   ]
  },
  {
   "cell_type": "code",
   "execution_count": 2,
   "metadata": {},
   "outputs": [],
   "source": [
    "text = \"Venus is the second planet from the Sun. It is a terrestrial planet and is the closest in mass and size to its orbital neighbour Earth. Venus is notable for having the densest atmosphere of the terrestrial planets, composed mostly of carbon dioxide with a thick, global sulfuric acid cloud cover. At the surface it has a mean temperature of 737 K (464 °C; 867 °F) and a pressure of 92 times that of Earth's at sea level. These extreme conditions compress carbon dioxide into a supercritical state close to Venus's surface.\""
   ]
  },
  {
   "cell_type": "code",
   "execution_count": 3,
   "metadata": {},
   "outputs": [
    {
     "data": {
      "text/plain": [
       "\"Venus is the second planet from the Sun. It is a terrestrial planet and is the closest in mass and size to its orbital neighbour Earth. Venus is notable for having the densest atmosphere of the terrestrial planets, composed mostly of carbon dioxide with a thick, global sulfuric acid cloud cover. At the surface it has a mean temperature of 737 K (464 °C; 867 °F) and a pressure of 92 times that of Earth's at sea level. These extreme conditions compress carbon dioxide into a supercritical state close to Venus's surface.\""
      ]
     },
     "execution_count": 3,
     "metadata": {},
     "output_type": "execute_result"
    }
   ],
   "source": [
    "text"
   ]
  },
  {
   "cell_type": "code",
   "execution_count": 4,
   "metadata": {},
   "outputs": [],
   "source": [
    "tags = pos_tag(word_tokenize(text))"
   ]
  },
  {
   "cell_type": "code",
   "execution_count": 5,
   "metadata": {},
   "outputs": [
    {
     "data": {
      "text/plain": [
       "[('Venus', 'NNP'),\n",
       " ('is', 'VBZ'),\n",
       " ('the', 'DT'),\n",
       " ('second', 'JJ'),\n",
       " ('planet', 'NN'),\n",
       " ('from', 'IN'),\n",
       " ('the', 'DT'),\n",
       " ('Sun', 'NNP'),\n",
       " ('.', '.'),\n",
       " ('It', 'PRP'),\n",
       " ('is', 'VBZ'),\n",
       " ('a', 'DT'),\n",
       " ('terrestrial', 'JJ'),\n",
       " ('planet', 'NN'),\n",
       " ('and', 'CC'),\n",
       " ('is', 'VBZ'),\n",
       " ('the', 'DT'),\n",
       " ('closest', 'JJS'),\n",
       " ('in', 'IN'),\n",
       " ('mass', 'NN'),\n",
       " ('and', 'CC'),\n",
       " ('size', 'NN'),\n",
       " ('to', 'TO'),\n",
       " ('its', 'PRP$'),\n",
       " ('orbital', 'JJ'),\n",
       " ('neighbour', 'JJ'),\n",
       " ('Earth', 'NN'),\n",
       " ('.', '.'),\n",
       " ('Venus', 'NNP'),\n",
       " ('is', 'VBZ'),\n",
       " ('notable', 'JJ'),\n",
       " ('for', 'IN'),\n",
       " ('having', 'VBG'),\n",
       " ('the', 'DT'),\n",
       " ('densest', 'JJS'),\n",
       " ('atmosphere', 'NN'),\n",
       " ('of', 'IN'),\n",
       " ('the', 'DT'),\n",
       " ('terrestrial', 'JJ'),\n",
       " ('planets', 'NNS'),\n",
       " (',', ','),\n",
       " ('composed', 'VBD'),\n",
       " ('mostly', 'RB'),\n",
       " ('of', 'IN'),\n",
       " ('carbon', 'NN'),\n",
       " ('dioxide', 'NN'),\n",
       " ('with', 'IN'),\n",
       " ('a', 'DT'),\n",
       " ('thick', 'NN'),\n",
       " (',', ','),\n",
       " ('global', 'JJ'),\n",
       " ('sulfuric', 'JJ'),\n",
       " ('acid', 'NN'),\n",
       " ('cloud', 'NN'),\n",
       " ('cover', 'NN'),\n",
       " ('.', '.'),\n",
       " ('At', 'IN'),\n",
       " ('the', 'DT'),\n",
       " ('surface', 'NN'),\n",
       " ('it', 'PRP'),\n",
       " ('has', 'VBZ'),\n",
       " ('a', 'DT'),\n",
       " ('mean', 'JJ'),\n",
       " ('temperature', 'NN'),\n",
       " ('of', 'IN'),\n",
       " ('737', 'CD'),\n",
       " ('K', 'NNP'),\n",
       " ('(', '('),\n",
       " ('464', 'CD'),\n",
       " ('°C', 'NN'),\n",
       " (';', ':'),\n",
       " ('867', 'CD'),\n",
       " ('°F', 'NN'),\n",
       " (')', ')'),\n",
       " ('and', 'CC'),\n",
       " ('a', 'DT'),\n",
       " ('pressure', 'NN'),\n",
       " ('of', 'IN'),\n",
       " ('92', 'CD'),\n",
       " ('times', 'NNS'),\n",
       " ('that', 'IN'),\n",
       " ('of', 'IN'),\n",
       " ('Earth', 'NNP'),\n",
       " (\"'s\", 'POS'),\n",
       " ('at', 'IN'),\n",
       " ('sea', 'NN'),\n",
       " ('level', 'NN'),\n",
       " ('.', '.'),\n",
       " ('These', 'DT'),\n",
       " ('extreme', 'JJ'),\n",
       " ('conditions', 'NNS'),\n",
       " ('compress', 'VBP'),\n",
       " ('carbon', 'NN'),\n",
       " ('dioxide', 'NN'),\n",
       " ('into', 'IN'),\n",
       " ('a', 'DT'),\n",
       " ('supercritical', 'JJ'),\n",
       " ('state', 'NN'),\n",
       " ('close', 'NN'),\n",
       " ('to', 'TO'),\n",
       " ('Venus', 'NNP'),\n",
       " (\"'s\", 'POS'),\n",
       " ('surface', 'NN'),\n",
       " ('.', '.')]"
      ]
     },
     "execution_count": 5,
     "metadata": {},
     "output_type": "execute_result"
    }
   ],
   "source": [
    "tags"
   ]
  },
  {
   "cell_type": "code",
   "execution_count": 6,
   "metadata": {},
   "outputs": [
    {
     "data": {
      "text/plain": [
       "['Venus',\n",
       " 'planet',\n",
       " 'Sun',\n",
       " 'planet',\n",
       " 'mass',\n",
       " 'size',\n",
       " 'Earth',\n",
       " 'Venus',\n",
       " 'atmosphere',\n",
       " 'planets',\n",
       " 'carbon',\n",
       " 'dioxide',\n",
       " 'thick',\n",
       " 'acid',\n",
       " 'cloud',\n",
       " 'cover',\n",
       " 'surface',\n",
       " 'temperature',\n",
       " 'K',\n",
       " '°C',\n",
       " '°F',\n",
       " 'pressure',\n",
       " 'times',\n",
       " 'Earth',\n",
       " 'sea',\n",
       " 'level',\n",
       " 'conditions',\n",
       " 'carbon',\n",
       " 'dioxide',\n",
       " 'state',\n",
       " 'close',\n",
       " 'Venus',\n",
       " 'surface']"
      ]
     },
     "execution_count": 6,
     "metadata": {},
     "output_type": "execute_result"
    }
   ],
   "source": [
    "nouns = []\n",
    "for i in tags:\n",
    "    if i[1] == 'NN' or i[1] == 'NNS' or i[1] == 'NNP' or i[1] == 'NNPS':\n",
    "        nouns.append(i[0])\n",
    "\n",
    "nouns"
   ]
  },
  {
   "cell_type": "markdown",
   "metadata": {},
   "source": [
    "Adjective Noun pairs"
   ]
  },
  {
   "cell_type": "code",
   "execution_count": 7,
   "metadata": {},
   "outputs": [
    {
     "data": {
      "text/plain": [
       "['second planet',\n",
       " 'terrestrial planet',\n",
       " 'neighbour Earth',\n",
       " 'densest atmosphere',\n",
       " 'terrestrial planets',\n",
       " 'sulfuric acid',\n",
       " 'mean temperature',\n",
       " 'extreme conditions',\n",
       " 'supercritical state']"
      ]
     },
     "execution_count": 7,
     "metadata": {},
     "output_type": "execute_result"
    }
   ],
   "source": [
    "adj_nn = []\n",
    "\n",
    "for i in range(0, len(tags)-1):\n",
    "    if tags[i][1].startswith('JJ') and tags[i+1][1].startswith('N') :\n",
    "\n",
    "        adj_nn.append(f\"{tags[i][0]} {tags[i+1][0]}\")\n",
    "\n",
    "adj_nn"
   ]
  },
  {
   "cell_type": "code",
   "execution_count": 2,
   "metadata": {},
   "outputs": [],
   "source": [
    "from nltk.corpus import indian\n",
    "from nltk.tag import TnT"
   ]
  },
  {
   "cell_type": "code",
   "execution_count": 3,
   "metadata": {},
   "outputs": [
    {
     "name": "stdout",
     "output_type": "stream",
     "text": [
      "bangla.pos\n",
      "hindi.pos\n",
      "marathi.pos\n",
      "telugu.pos\n"
     ]
    }
   ],
   "source": [
    "for x in indian.fileids():\n",
    "    print(x)"
   ]
  },
  {
   "cell_type": "code",
   "execution_count": null,
   "metadata": {},
   "outputs": [],
   "source": []
  }
 ],
 "metadata": {
  "kernelspec": {
   "display_name": "New",
   "language": "python",
   "name": "python3"
  },
  "language_info": {
   "codemirror_mode": {
    "name": "ipython",
    "version": 3
   },
   "file_extension": ".py",
   "mimetype": "text/x-python",
   "name": "python",
   "nbconvert_exporter": "python",
   "pygments_lexer": "ipython3",
   "version": "3.11.9"
  }
 },
 "nbformat": 4,
 "nbformat_minor": 2
}
